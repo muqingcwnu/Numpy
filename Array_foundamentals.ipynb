{
 "cells": [
  {
   "cell_type": "code",
   "execution_count": 2,
   "id": "32e18fa9",
   "metadata": {},
   "outputs": [
    {
     "name": "stdout",
     "output_type": "stream",
     "text": [
      "hello, lets begin numpy with Array foundamentals\n"
     ]
    }
   ],
   "source": [
    "print(\"hello, lets begin numpy with Array foundamentals\")\n"
   ]
  },
  {
   "cell_type": "code",
   "execution_count": 47,
   "id": "c335b865",
   "metadata": {},
   "outputs": [],
   "source": [
    "import numpy as np"
   ]
  },
  {
   "cell_type": "markdown",
   "id": "20d54b6b",
   "metadata": {},
   "source": [
    "\n",
    "Creating arrays from lists or functions\n",
    "\n",
    "Understanding shape, dtype, ndim\n",
    "\n",
    "Array attributes (size, itemsize)\n",
    "\n",
    "Reshape, flatten, transpose\n",
    "\n",
    "Type conversion (astype)\n",
    "\n",
    "Element-wise operations (add, sub, mul, div)\n",
    "\n",
    "arange, linspace, zeros, ones, full, eye\n",
    "\n"
   ]
  },
  {
   "cell_type": "code",
   "execution_count": 5,
   "id": "94cf044f",
   "metadata": {},
   "outputs": [],
   "source": [
    "myarray = np.random.choice([1, 2, 3, 4, 5])"
   ]
  },
  {
   "cell_type": "code",
   "execution_count": 6,
   "id": "61d611a1",
   "metadata": {},
   "outputs": [
    {
     "data": {
      "text/plain": [
       "np.int64(2)"
      ]
     },
     "execution_count": 6,
     "metadata": {},
     "output_type": "execute_result"
    }
   ],
   "source": [
    "myarray\n"
   ]
  },
  {
   "cell_type": "code",
   "execution_count": 7,
   "id": "39ca7db0",
   "metadata": {},
   "outputs": [],
   "source": [
    "a=[1,2,3,4,5,6,7,8,9,10]\n"
   ]
  },
  {
   "cell_type": "code",
   "execution_count": 8,
   "id": "6edee606",
   "metadata": {},
   "outputs": [
    {
     "data": {
      "text/plain": [
       "list"
      ]
     },
     "execution_count": 8,
     "metadata": {},
     "output_type": "execute_result"
    }
   ],
   "source": [
    "type(a)"
   ]
  },
  {
   "cell_type": "code",
   "execution_count": 9,
   "id": "897773c4",
   "metadata": {},
   "outputs": [],
   "source": [
    "x=np.array(a)"
   ]
  },
  {
   "cell_type": "code",
   "execution_count": 11,
   "id": "c3280fab",
   "metadata": {},
   "outputs": [
    {
     "data": {
      "text/plain": [
       "array([ 1,  2,  3,  4,  5,  6,  7,  8,  9, 10])"
      ]
     },
     "execution_count": 11,
     "metadata": {},
     "output_type": "execute_result"
    }
   ],
   "source": [
    "x"
   ]
  },
  {
   "cell_type": "code",
   "execution_count": 13,
   "id": "b7409449",
   "metadata": {},
   "outputs": [
    {
     "data": {
      "text/plain": [
       "numpy.ndarray"
      ]
     },
     "execution_count": 13,
     "metadata": {},
     "output_type": "execute_result"
    }
   ],
   "source": [
    "type(x)"
   ]
  },
  {
   "cell_type": "code",
   "execution_count": 14,
   "id": "37300368",
   "metadata": {},
   "outputs": [],
   "source": [
    "c=np.array([a,x])"
   ]
  },
  {
   "cell_type": "code",
   "execution_count": 15,
   "id": "2bd2b2ae",
   "metadata": {},
   "outputs": [
    {
     "data": {
      "text/plain": [
       "array([[ 1,  2,  3,  4,  5,  6,  7,  8,  9, 10],\n",
       "       [ 1,  2,  3,  4,  5,  6,  7,  8,  9, 10]])"
      ]
     },
     "execution_count": 15,
     "metadata": {},
     "output_type": "execute_result"
    }
   ],
   "source": [
    "c"
   ]
  },
  {
   "cell_type": "code",
   "execution_count": 16,
   "id": "57a2a4a5",
   "metadata": {},
   "outputs": [
    {
     "name": "stdout",
     "output_type": "stream",
     "text": [
      "[[ 1  2  3  4  5  6  7  8  9 10]\n",
      " [ 1  2  3  4  5  6  7  8  9 10]]\n"
     ]
    }
   ],
   "source": [
    "print(c)"
   ]
  },
  {
   "cell_type": "code",
   "execution_count": 9,
   "id": "bc9f1a38",
   "metadata": {},
   "outputs": [],
   "source": [
    "c=np.array([1,2,3,4],dtype=np.float32)"
   ]
  },
  {
   "cell_type": "code",
   "execution_count": 18,
   "id": "f7efa095",
   "metadata": {},
   "outputs": [
    {
     "data": {
      "text/plain": [
       "array([1., 2., 3., 4.], dtype=float32)"
      ]
     },
     "execution_count": 18,
     "metadata": {},
     "output_type": "execute_result"
    }
   ],
   "source": [
    "c"
   ]
  },
  {
   "cell_type": "markdown",
   "id": "ae017bdc",
   "metadata": {},
   "source": [
    "Arrays of zero and ones"
   ]
  },
  {
   "cell_type": "code",
   "execution_count": 19,
   "id": "81c10109",
   "metadata": {},
   "outputs": [
    {
     "data": {
      "text/plain": [
       "array([[0., 0., 0., 0.],\n",
       "       [0., 0., 0., 0.],\n",
       "       [0., 0., 0., 0.]])"
      ]
     },
     "execution_count": 19,
     "metadata": {},
     "output_type": "execute_result"
    }
   ],
   "source": [
    "x=np.zeros((3,4))\n",
    "x"
   ]
  },
  {
   "cell_type": "code",
   "execution_count": 20,
   "id": "dd374d98",
   "metadata": {},
   "outputs": [
    {
     "data": {
      "text/plain": [
       "array([[1., 1., 1., 1.],\n",
       "       [1., 1., 1., 1.],\n",
       "       [1., 1., 1., 1.]])"
      ]
     },
     "execution_count": 20,
     "metadata": {},
     "output_type": "execute_result"
    }
   ],
   "source": [
    "np.ones((3,4))"
   ]
  },
  {
   "cell_type": "code",
   "execution_count": 10,
   "id": "1cfb848c",
   "metadata": {},
   "outputs": [
    {
     "data": {
      "text/plain": [
       "array([1, 1, 1, 1, 1], dtype=int32)"
      ]
     },
     "execution_count": 10,
     "metadata": {},
     "output_type": "execute_result"
    }
   ],
   "source": [
    "np.ones(5,dtype=np.int32)"
   ]
  },
  {
   "cell_type": "markdown",
   "id": "24ec9c55",
   "metadata": {},
   "source": [
    "Random numbers in ndarrays "
   ]
  },
  {
   "cell_type": "code",
   "execution_count": 13,
   "id": "0f558644",
   "metadata": {},
   "outputs": [],
   "source": [
    "random_array=np.random.rand(2,5)"
   ]
  },
  {
   "cell_type": "code",
   "execution_count": 14,
   "id": "a5e143ee",
   "metadata": {},
   "outputs": [
    {
     "data": {
      "text/plain": [
       "array([[0.02765807, 0.17968611, 0.14296706, 0.4856639 , 0.22623404],\n",
       "       [0.70976896, 0.56709314, 0.35393227, 0.92720295, 0.10826666]])"
      ]
     },
     "execution_count": 14,
     "metadata": {},
     "output_type": "execute_result"
    }
   ],
   "source": [
    "\n",
    "random_array\n"
   ]
  },
  {
   "cell_type": "code",
   "execution_count": 15,
   "id": "829f7e58",
   "metadata": {},
   "outputs": [
    {
     "name": "stdout",
     "output_type": "stream",
     "text": [
      "[[0.02765807 0.17968611 0.14296706 0.4856639  0.22623404]\n",
      " [0.70976896 0.56709314 0.35393227 0.92720295 0.10826666]]\n"
     ]
    }
   ],
   "source": [
    "print(random_array)"
   ]
  },
  {
   "cell_type": "code",
   "execution_count": 16,
   "id": "cf5bbff2",
   "metadata": {},
   "outputs": [],
   "source": [
    "p=np.random.randint(1,100, size=(4,4))"
   ]
  },
  {
   "cell_type": "code",
   "execution_count": 17,
   "id": "8e83d483",
   "metadata": {},
   "outputs": [
    {
     "data": {
      "text/plain": [
       "array([[61, 62, 37, 82],\n",
       "       [64, 84, 17, 63],\n",
       "       [64, 22,  3, 26],\n",
       "       [95, 28, 41, 19]], dtype=int32)"
      ]
     },
     "execution_count": 17,
     "metadata": {},
     "output_type": "execute_result"
    }
   ],
   "source": [
    "p"
   ]
  },
  {
   "cell_type": "code",
   "execution_count": 18,
   "id": "e064bead",
   "metadata": {},
   "outputs": [
    {
     "name": "stdout",
     "output_type": "stream",
     "text": [
      "[[61 62 37 82]\n",
      " [64 84 17 63]\n",
      " [64 22  3 26]\n",
      " [95 28 41 19]]\n"
     ]
    }
   ],
   "source": [
    "print(p)"
   ]
  },
  {
   "cell_type": "code",
   "execution_count": 19,
   "id": "e3a33ce8",
   "metadata": {},
   "outputs": [
    {
     "data": {
      "text/plain": [
       "array([[-1.0998605 , -1.67517283, -0.44095551],\n",
       "       [-0.20586903, -1.09402998,  0.19980285]])"
      ]
     },
     "execution_count": 19,
     "metadata": {},
     "output_type": "execute_result"
    }
   ],
   "source": [
    "np.random.randn(2,3)"
   ]
  },
  {
   "cell_type": "code",
   "execution_count": 20,
   "id": "c893b22a",
   "metadata": {},
   "outputs": [
    {
     "data": {
      "text/plain": [
       "array([[4, 3, 4],\n",
       "       [5, 4, 4]])"
      ]
     },
     "execution_count": 20,
     "metadata": {},
     "output_type": "execute_result"
    }
   ],
   "source": [
    "np.random.choice([1,2,3,4,5], size=(2,3))"
   ]
  },
  {
   "cell_type": "markdown",
   "id": "d8b3c2da",
   "metadata": {},
   "source": [
    "An array of your choice lets play"
   ]
  },
  {
   "cell_type": "code",
   "execution_count": 21,
   "id": "9b35f173",
   "metadata": {},
   "outputs": [
    {
     "data": {
      "text/plain": [
       "array([[6, 6, 6, 6, 6],\n",
       "       [6, 6, 6, 6, 6],\n",
       "       [6, 6, 6, 6, 6]])"
      ]
     },
     "execution_count": 21,
     "metadata": {},
     "output_type": "execute_result"
    }
   ],
   "source": [
    "np.full((3,5),6)"
   ]
  },
  {
   "cell_type": "code",
   "execution_count": 22,
   "id": "5f9f1808",
   "metadata": {},
   "outputs": [
    {
     "data": {
      "text/plain": [
       "array([[10, 10, 10, 10, 10],\n",
       "       [10, 10, 10, 10, 10],\n",
       "       [10, 10, 10, 10, 10]], dtype=int32)"
      ]
     },
     "execution_count": 22,
     "metadata": {},
     "output_type": "execute_result"
    }
   ],
   "source": [
    "np.full((3,5),10,dtype=np.int32)"
   ]
  },
  {
   "cell_type": "code",
   "execution_count": 23,
   "id": "4680ae05",
   "metadata": {},
   "outputs": [
    {
     "data": {
      "text/plain": [
       "array([[10., 10., 10., 10.],\n",
       "       [10., 10., 10., 10.],\n",
       "       [10., 10., 10., 10.],\n",
       "       [10., 10., 10., 10.]])"
      ]
     },
     "execution_count": 23,
     "metadata": {},
     "output_type": "execute_result"
    }
   ],
   "source": [
    "np.ones((4,4))*10"
   ]
  },
  {
   "cell_type": "markdown",
   "id": "6728febe",
   "metadata": {},
   "source": [
    "Identity matrix"
   ]
  },
  {
   "cell_type": "code",
   "execution_count": 43,
   "id": "115fc80d",
   "metadata": {},
   "outputs": [
    {
     "name": "stdout",
     "output_type": "stream",
     "text": [
      "[[1. 0. 0. 0.]\n",
      " [0. 1. 0. 0.]\n",
      " [0. 0. 1. 0.]\n",
      " [0. 0. 0. 1.]]\n"
     ]
    }
   ],
   "source": [
    "x=np.eye(4)\n",
    "print(x)"
   ]
  },
  {
   "cell_type": "code",
   "execution_count": 27,
   "id": "00705489",
   "metadata": {},
   "outputs": [
    {
     "data": {
      "text/plain": [
       "array([[1, 0, 0, 0],\n",
       "       [0, 1, 0, 0],\n",
       "       [0, 0, 1, 0],\n",
       "       [0, 0, 0, 1]], dtype=int32)"
      ]
     },
     "execution_count": 27,
     "metadata": {},
     "output_type": "execute_result"
    }
   ],
   "source": [
    "identity_matrix = np.eye(4,dtype=np.int32)\n",
    "identity_matrix"
   ]
  },
  {
   "cell_type": "markdown",
   "id": "94d3edf1",
   "metadata": {},
   "source": [
    "Evenly spaced ndarray"
   ]
  },
  {
   "cell_type": "code",
   "execution_count": 77,
   "id": "f7d539ef",
   "metadata": {},
   "outputs": [
    {
     "name": "stdout",
     "output_type": "stream",
     "text": [
      "[ 5  6  7  8  9 10]\n"
     ]
    }
   ],
   "source": [
    "e=np.arange(5,11)\n",
    "print(e)\n",
    "\n"
   ]
  },
  {
   "cell_type": "code",
   "execution_count": 52,
   "id": "7a000406",
   "metadata": {},
   "outputs": [
    {
     "data": {
      "text/plain": [
       "numpy.ndarray"
      ]
     },
     "execution_count": 52,
     "metadata": {},
     "output_type": "execute_result"
    }
   ],
   "source": [
    "type(e)"
   ]
  },
  {
   "cell_type": "code",
   "execution_count": 53,
   "id": "e67e04ee",
   "metadata": {},
   "outputs": [
    {
     "data": {
      "text/plain": [
       "array([ 1,  3,  5,  7,  9, 11, 13])"
      ]
     },
     "execution_count": 53,
     "metadata": {},
     "output_type": "execute_result"
    }
   ],
   "source": [
    "np.arange(1,15,2)"
   ]
  },
  {
   "cell_type": "code",
   "execution_count": 58,
   "id": "5115e29c",
   "metadata": {},
   "outputs": [
    {
     "data": {
      "text/plain": [
       "array([0.  , 0.75, 1.5 , 2.25, 3.  ])"
      ]
     },
     "execution_count": 58,
     "metadata": {},
     "output_type": "execute_result"
    }
   ],
   "source": [
    "np.linspace(0,3,5)"
   ]
  },
  {
   "cell_type": "markdown",
   "id": "31952883",
   "metadata": {},
   "source": [
    "Dimension of nparray"
   ]
  },
  {
   "cell_type": "code",
   "execution_count": 60,
   "id": "0ef9f20e",
   "metadata": {},
   "outputs": [
    {
     "name": "stdout",
     "output_type": "stream",
     "text": [
      "[10 20 30 40 50]\n"
     ]
    }
   ],
   "source": [
    "a=[10,20,30,40,50]\n",
    "p=np.array(a)\n",
    "print(p)"
   ]
  },
  {
   "cell_type": "code",
   "execution_count": 61,
   "id": "dd45bfae",
   "metadata": {},
   "outputs": [
    {
     "data": {
      "text/plain": [
       "1"
      ]
     },
     "execution_count": 61,
     "metadata": {},
     "output_type": "execute_result"
    }
   ],
   "source": [
    "p.ndim"
   ]
  },
  {
   "cell_type": "code",
   "execution_count": 66,
   "id": "467d02c7",
   "metadata": {},
   "outputs": [
    {
     "name": "stdout",
     "output_type": "stream",
     "text": [
      "[[10 20 30 40 50]\n",
      " [ 1  2  3  4  5]]\n"
     ]
    }
   ],
   "source": [
    "b=[1,2,3,4,5]\n",
    "q=np.array([p,b])\n",
    "print(q)"
   ]
  },
  {
   "cell_type": "code",
   "execution_count": 67,
   "id": "bac868c0",
   "metadata": {},
   "outputs": [
    {
     "data": {
      "text/plain": [
       "2"
      ]
     },
     "execution_count": 67,
     "metadata": {},
     "output_type": "execute_result"
    }
   ],
   "source": [
    "q.ndim"
   ]
  },
  {
   "cell_type": "code",
   "execution_count": 68,
   "id": "9040c751",
   "metadata": {},
   "outputs": [
    {
     "data": {
      "text/plain": [
       "(2, 5)"
      ]
     },
     "execution_count": 68,
     "metadata": {},
     "output_type": "execute_result"
    }
   ],
   "source": [
    "q.shape"
   ]
  },
  {
   "cell_type": "code",
   "execution_count": 69,
   "id": "32b41520",
   "metadata": {},
   "outputs": [
    {
     "data": {
      "text/plain": [
       "10"
      ]
     },
     "execution_count": 69,
     "metadata": {},
     "output_type": "execute_result"
    }
   ],
   "source": [
    "q.size"
   ]
  },
  {
   "cell_type": "code",
   "execution_count": 74,
   "id": "d4fde05d",
   "metadata": {},
   "outputs": [],
   "source": [
    "a=np.array([3,4,6,7])"
   ]
  },
  {
   "cell_type": "code",
   "execution_count": 75,
   "id": "d3e759ac",
   "metadata": {},
   "outputs": [
    {
     "data": {
      "text/plain": [
       "array([[3, 4],\n",
       "       [6, 7]])"
      ]
     },
     "execution_count": 75,
     "metadata": {},
     "output_type": "execute_result"
    }
   ],
   "source": [
    "np.reshape(a,(2,2))"
   ]
  },
  {
   "cell_type": "code",
   "execution_count": 76,
   "id": "184c9351",
   "metadata": {},
   "outputs": [
    {
     "data": {
      "text/plain": [
       "array([ 1,  2,  3,  4,  5,  6,  7,  8,  9, 10, 11, 12, 13, 14, 15])"
      ]
     },
     "execution_count": 76,
     "metadata": {},
     "output_type": "execute_result"
    }
   ],
   "source": [
    "np.arange(1,16)"
   ]
  },
  {
   "cell_type": "code",
   "execution_count": null,
   "id": "224d7249",
   "metadata": {},
   "outputs": [],
   "source": []
  }
 ],
 "metadata": {
  "kernelspec": {
   "display_name": ".venv",
   "language": "python",
   "name": "python3"
  },
  "language_info": {
   "codemirror_mode": {
    "name": "ipython",
    "version": 3
   },
   "file_extension": ".py",
   "mimetype": "text/x-python",
   "name": "python",
   "nbconvert_exporter": "python",
   "pygments_lexer": "ipython3",
   "version": "3.13.3"
  }
 },
 "nbformat": 4,
 "nbformat_minor": 5
}

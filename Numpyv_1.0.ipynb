{
 "cells": [
  {
   "cell_type": "markdown",
   "id": "6d5d2d42",
   "metadata": {},
   "source": [
    "Array Basic Functions "
   ]
  },
  {
   "cell_type": "code",
   "execution_count": 2,
   "id": "c939926d",
   "metadata": {},
   "outputs": [],
   "source": [
    "import numpy as np"
   ]
  },
  {
   "cell_type": "markdown",
   "id": "0d1dc649",
   "metadata": {},
   "source": [
    "1D,2D,3D Array creations"
   ]
  },
  {
   "cell_type": "code",
   "execution_count": 3,
   "id": "66ceaff1",
   "metadata": {},
   "outputs": [
    {
     "name": "stdout",
     "output_type": "stream",
     "text": [
      "[1 2 3 4 5]\n"
     ]
    }
   ],
   "source": [
    "arr1=np.array([1, 2, 3, 4, 5])\n",
    "print(arr1)"
   ]
  },
  {
   "cell_type": "code",
   "execution_count": 5,
   "id": "c55e9614",
   "metadata": {},
   "outputs": [
    {
     "name": "stdout",
     "output_type": "stream",
     "text": [
      "[[1 2 3]\n",
      " [4 5 6]]\n"
     ]
    }
   ],
   "source": [
    "arr2=np.array([[1,2,3],[4,5,6]])\n",
    "print(arr2)"
   ]
  },
  {
   "cell_type": "code",
   "execution_count": 45,
   "id": "b404c27c",
   "metadata": {},
   "outputs": [
    {
     "name": "stdout",
     "output_type": "stream",
     "text": [
      "[[1 2 3]\n",
      " [4 5 6]\n",
      " [7 8 9]]\n"
     ]
    }
   ],
   "source": [
    "arr3=np.array([[1,2,3],[4,5,6],[7,8,9]])\n",
    "print(arr3)\n"
   ]
  },
  {
   "cell_type": "markdown",
   "id": "849c9939",
   "metadata": {},
   "source": [
    "Special Arrays"
   ]
  },
  {
   "cell_type": "code",
   "execution_count": 10,
   "id": "9bc497a9",
   "metadata": {},
   "outputs": [
    {
     "name": "stdout",
     "output_type": "stream",
     "text": [
      "[[0. 0. 0.]\n",
      " [0. 0. 0.]\n",
      " [0. 0. 0.]]\n"
     ]
    }
   ],
   "source": [
    "zero_mat=np.zeros((3,3))\n",
    "print(zero_mat)"
   ]
  },
  {
   "cell_type": "code",
   "execution_count": 12,
   "id": "efff2f46",
   "metadata": {},
   "outputs": [
    {
     "name": "stdout",
     "output_type": "stream",
     "text": [
      "[[1. 1. 1.]\n",
      " [1. 1. 1.]\n",
      " [1. 1. 1.]]\n"
     ]
    }
   ],
   "source": [
    "ones_mat=np.ones((3,3))\n",
    "print(ones_mat)"
   ]
  },
  {
   "cell_type": "code",
   "execution_count": 17,
   "id": "a0b285f7",
   "metadata": {},
   "outputs": [
    {
     "name": "stdout",
     "output_type": "stream",
     "text": [
      "[[0.00000000e+000 1.28867842e-311]\n",
      " [1.28867842e-311 1.28867842e-311]]\n"
     ]
    }
   ],
   "source": [
    "empty_mat=np.empty((2,2))\n",
    "print(empty_mat)"
   ]
  },
  {
   "cell_type": "code",
   "execution_count": 24,
   "id": "cf52b68e",
   "metadata": {},
   "outputs": [
    {
     "name": "stdout",
     "output_type": "stream",
     "text": [
      "[[1. 0. 0. 0. 0.]\n",
      " [0. 1. 0. 0. 0.]\n",
      " [0. 0. 1. 0. 0.]\n",
      " [0. 0. 0. 1. 0.]\n",
      " [0. 0. 0. 0. 1.]]\n"
     ]
    }
   ],
   "source": [
    "identity_mat=np.eye(5)\n",
    "print(identity_mat)"
   ]
  },
  {
   "cell_type": "markdown",
   "id": "710ae331",
   "metadata": {},
   "source": [
    "Range And Sequence"
   ]
  },
  {
   "cell_type": "code",
   "execution_count": 26,
   "id": "7be23273",
   "metadata": {},
   "outputs": [
    {
     "name": "stdout",
     "output_type": "stream",
     "text": [
      "[0 1 2 3 4 5 6 7 8 9]\n"
     ]
    }
   ],
   "source": [
    "range_arr=np.arange(10)\n",
    "print(range_arr)"
   ]
  },
  {
   "cell_type": "code",
   "execution_count": 27,
   "id": "31c61323",
   "metadata": {},
   "outputs": [
    {
     "name": "stdout",
     "output_type": "stream",
     "text": [
      "[ 2  5  8 11 14 17 20 23 26 29 32 35 38 41 44 47 50 53 56 59 62 65 68 71\n",
      " 74 77 80 83 86 89 92 95 98]\n"
     ]
    }
   ],
   "source": [
    "range_arr2=np.arange(2,100,3)\n",
    "print(range_arr2)"
   ]
  },
  {
   "cell_type": "code",
   "execution_count": 29,
   "id": "c8472a56",
   "metadata": {},
   "outputs": [
    {
     "name": "stdout",
     "output_type": "stream",
     "text": [
      "[0.         0.33333333 0.66666667 1.        ]\n"
     ]
    }
   ],
   "source": [
    "linspace_arr=np.linspace(0,1,4)\n",
    "print(linspace_arr)"
   ]
  },
  {
   "cell_type": "code",
   "execution_count": 35,
   "id": "2ee71ca0",
   "metadata": {},
   "outputs": [
    {
     "name": "stdout",
     "output_type": "stream",
     "text": [
      "[0.   0.25 0.5  0.75 1.  ]\n"
     ]
    }
   ],
   "source": [
    "lin_another=np.linspace(0,1,5)\n",
    "print(lin_another)"
   ]
  },
  {
   "cell_type": "code",
   "execution_count": 37,
   "id": "56470190",
   "metadata": {},
   "outputs": [
    {
     "name": "stdout",
     "output_type": "stream",
     "text": [
      "[[0.58169776 0.58525597 0.71125771]\n",
      " [0.71645974 0.20594065 0.23268196]\n",
      " [0.05580527 0.1292497  0.09526271]]\n"
     ]
    }
   ],
   "source": [
    "random_array=np.random.rand(3,3)\n",
    "print(random_array)"
   ]
  },
  {
   "cell_type": "markdown",
   "id": "e099a349",
   "metadata": {},
   "source": [
    "Array Attributes"
   ]
  },
  {
   "cell_type": "code",
   "execution_count": 40,
   "id": "509e3ee5",
   "metadata": {},
   "outputs": [
    {
     "name": "stdout",
     "output_type": "stream",
     "text": [
      "(3, 3)\n",
      "2\n",
      "9\n",
      "int64\n",
      "[[1 4 7]\n",
      " [2 5 8]\n",
      " [3 6 9]]\n"
     ]
    }
   ],
   "source": [
    "print(arr3.shape)\n",
    "print(arr3.ndim)\n",
    "print(arr3.size)\n",
    "print(arr3.dtype)\n",
    "print(arr3.T)"
   ]
  },
  {
   "cell_type": "code",
   "execution_count": 52,
   "id": "b82a6168",
   "metadata": {},
   "outputs": [],
   "source": [
    "marray=np.array(\n",
    "[[[1, 2, 3],[4, 5, 6],[7, 8, 9]],\n",
    "    [[10, 11, 12],[13, 14, 15],[16, 17, 18]],\n",
    "    [[19, 20, 21],[22, 23, 24],[25, 26, 27]]\n",
    " ]\n",
    ")"
   ]
  },
  {
   "cell_type": "code",
   "execution_count": 57,
   "id": "75d728ad",
   "metadata": {},
   "outputs": [
    {
     "name": "stdout",
     "output_type": "stream",
     "text": [
      "[[[ 1  2  3]\n",
      "  [ 4  5  6]\n",
      "  [ 7  8  9]]\n",
      "\n",
      " [[10 11 12]\n",
      "  [13 14 15]\n",
      "  [16 17 18]]\n",
      "\n",
      " [[19 20 21]\n",
      "  [22 23 24]\n",
      "  [25 26 27]]]\n",
      "(3, 3, 3)\n",
      "3\n",
      "27\n",
      "int64\n"
     ]
    }
   ],
   "source": [
    "print(marray)\n",
    "print(marray.shape)\n",
    "print(marray.ndim)\n",
    "print(marray.size)\n",
    "print(marray.dtype)"
   ]
  },
  {
   "cell_type": "code",
   "execution_count": 58,
   "id": "1ea57063",
   "metadata": {},
   "outputs": [],
   "source": [
    "mul_array=np.array([[1,2,4],[3,4,6]],dtype=np.float32)"
   ]
  },
  {
   "cell_type": "code",
   "execution_count": 59,
   "id": "2de93f66",
   "metadata": {},
   "outputs": [
    {
     "data": {
      "text/plain": [
       "np.float32(4.0)"
      ]
     },
     "execution_count": 59,
     "metadata": {},
     "output_type": "execute_result"
    }
   ],
   "source": [
    "mul_array[0,2]"
   ]
  },
  {
   "cell_type": "code",
   "execution_count": 60,
   "id": "b10feff8",
   "metadata": {},
   "outputs": [
    {
     "data": {
      "text/plain": [
       "2"
      ]
     },
     "execution_count": 60,
     "metadata": {},
     "output_type": "execute_result"
    }
   ],
   "source": [
    "mul_array.ndim"
   ]
  },
  {
   "cell_type": "markdown",
   "id": "b3076fe6",
   "metadata": {},
   "source": [
    "Slicing ,            Basic slice [start:stop:step]"
   ]
  },
  {
   "cell_type": "code",
   "execution_count": 65,
   "id": "f4a52160",
   "metadata": {},
   "outputs": [],
   "source": [
    "mainArray=np.array([1,2,3,4,5,6,7,8,9,10])\n"
   ]
  },
  {
   "cell_type": "code",
   "execution_count": 71,
   "id": "1ed678b4",
   "metadata": {},
   "outputs": [
    {
     "data": {
      "text/plain": [
       "array([1, 2, 3])"
      ]
     },
     "execution_count": 71,
     "metadata": {},
     "output_type": "execute_result"
    }
   ],
   "source": [
    "\n",
    "mainArray[:3]\n"
   ]
  },
  {
   "cell_type": "code",
   "execution_count": 72,
   "id": "553db7a2",
   "metadata": {},
   "outputs": [
    {
     "data": {
      "text/plain": [
       "array([4, 5, 6])"
      ]
     },
     "execution_count": 72,
     "metadata": {},
     "output_type": "execute_result"
    }
   ],
   "source": [
    "mainArray[3:6]"
   ]
  },
  {
   "cell_type": "code",
   "execution_count": 75,
   "id": "3a35ac2a",
   "metadata": {},
   "outputs": [
    {
     "data": {
      "text/plain": [
       "array([ 2,  4,  6,  8, 10])"
      ]
     },
     "execution_count": 75,
     "metadata": {},
     "output_type": "execute_result"
    }
   ],
   "source": [
    "mainArray[1:10:2]"
   ]
  },
  {
   "cell_type": "code",
   "execution_count": null,
   "id": "e8dae068",
   "metadata": {},
   "outputs": [
    {
     "name": "stdout",
     "output_type": "stream",
     "text": [
      "[2 3 4 5 6 7]\n",
      "[1 3 5 7 9]\n",
      "[ 6  7  8  9 10]\n",
      "[1 2 3 4 5]\n",
      "[10  9  8  7  6  5  4  3  2  1]\n"
     ]
    }
   ],
   "source": [
    "print(mainArray[1:7])        #  (index 1 to 6)\n",
    "print(mainArray[::2])        #  (every 2nd element)\n",
    "print(mainArray[5:])         #  (from index 5 to end)\n",
    "print(mainArray[:5])         #  (start to index 4)\n",
    "print(mainArray[::-1])       #   (reverse array)"
   ]
  },
  {
   "cell_type": "code",
   "execution_count": null,
   "id": "562cafd1",
   "metadata": {},
   "outputs": [],
   "source": []
  }
 ],
 "metadata": {
  "kernelspec": {
   "display_name": ".venv",
   "language": "python",
   "name": "python3"
  },
  "language_info": {
   "codemirror_mode": {
    "name": "ipython",
    "version": 3
   },
   "file_extension": ".py",
   "mimetype": "text/x-python",
   "name": "python",
   "nbconvert_exporter": "python",
   "pygments_lexer": "ipython3",
   "version": "3.13.3"
  }
 },
 "nbformat": 4,
 "nbformat_minor": 5
}

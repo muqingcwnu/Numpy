{
 "cells": [
  {
   "cell_type": "code",
   "execution_count": 2,
   "id": "32e18fa9",
   "metadata": {},
   "outputs": [
    {
     "name": "stdout",
     "output_type": "stream",
     "text": [
      "hello, lets begin numpy with Array foundamentals\n"
     ]
    }
   ],
   "source": [
    "print(\"hello, lets begin numpy with Array foundamentals\")\n"
   ]
  },
  {
   "cell_type": "code",
   "execution_count": 4,
   "id": "c335b865",
   "metadata": {},
   "outputs": [],
   "source": [
    "import numpy as np"
   ]
  },
  {
   "cell_type": "markdown",
   "id": "20d54b6b",
   "metadata": {},
   "source": [
    "\n",
    "Creating arrays from lists or functions\n",
    "\n",
    "Understanding shape, dtype, ndim\n",
    "\n",
    "Array attributes (size, itemsize)\n",
    "\n",
    "Reshape, flatten, transpose\n",
    "\n",
    "Type conversion (astype)\n",
    "\n",
    "Element-wise operations (add, sub, mul, div)\n",
    "\n",
    "arange, linspace, zeros, ones, full, eye\n",
    "\n"
   ]
  },
  {
   "cell_type": "code",
   "execution_count": 5,
   "id": "94cf044f",
   "metadata": {},
   "outputs": [],
   "source": [
    "myarray = np.array([1, 2, 3, 4, 5])"
   ]
  },
  {
   "cell_type": "code",
   "execution_count": 6,
   "id": "61d611a1",
   "metadata": {},
   "outputs": [
    {
     "data": {
      "text/plain": [
       "array([1, 2, 3, 4, 5])"
      ]
     },
     "execution_count": 6,
     "metadata": {},
     "output_type": "execute_result"
    }
   ],
   "source": [
    "myarray"
   ]
  },
  {
   "cell_type": "code",
   "execution_count": null,
   "id": "39ca7db0",
   "metadata": {},
   "outputs": [],
   "source": [
    "print(\"My array is :\",myarray)\n",
    "sha[eprint(\"My array type is:\",type(myarray))\n",
    "print(\"My array shape is:\",myarray.shape()"
   ]
  }
 ],
 "metadata": {
  "kernelspec": {
   "display_name": ".venv",
   "language": "python",
   "name": "python3"
  },
  "language_info": {
   "codemirror_mode": {
    "name": "ipython",
    "version": 3
   },
   "file_extension": ".py",
   "mimetype": "text/x-python",
   "name": "python",
   "nbconvert_exporter": "python",
   "pygments_lexer": "ipython3",
   "version": "3.13.3"
  }
 },
 "nbformat": 4,
 "nbformat_minor": 5
}

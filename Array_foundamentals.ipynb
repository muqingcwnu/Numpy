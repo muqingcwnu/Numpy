{
 "cells": [
  {
   "cell_type": "code",
   "execution_count": 2,
   "id": "32e18fa9",
   "metadata": {},
   "outputs": [
    {
     "name": "stdout",
     "output_type": "stream",
     "text": [
      "hello, lets begin numpy with Array foundamentals\n"
     ]
    }
   ],
   "source": [
    "print(\"hello, lets begin numpy with Array foundamentals\")\n"
   ]
  },
  {
   "cell_type": "code",
   "execution_count": 47,
   "id": "c335b865",
   "metadata": {},
   "outputs": [],
   "source": [
    "import numpy as np"
   ]
  },
  {
   "cell_type": "markdown",
   "id": "20d54b6b",
   "metadata": {},
   "source": [
    "\n",
    "Creating arrays from lists or functions\n",
    "\n",
    "Understanding shape, dtype, ndim\n",
    "\n",
    "Array attributes (size, itemsize)\n",
    "\n",
    "Reshape, flatten, transpose\n",
    "\n",
    "Type conversion (astype)\n",
    "\n",
    "Element-wise operations (add, sub, mul, div)\n",
    "\n",
    "arange, linspace, zeros, ones, full, eye\n",
    "\n"
   ]
  },
  {
   "cell_type": "code",
   "execution_count": 5,
   "id": "94cf044f",
   "metadata": {},
   "outputs": [],
   "source": [
    "myarray = np.random.choice([1, 2, 3, 4, 5])"
   ]
  },
  {
   "cell_type": "code",
   "execution_count": 6,
   "id": "61d611a1",
   "metadata": {},
   "outputs": [
    {
     "data": {
      "text/plain": [
       "np.int64(2)"
      ]
     },
     "execution_count": 6,
     "metadata": {},
     "output_type": "execute_result"
    }
   ],
   "source": [
    "myarray\n"
   ]
  },
  {
   "cell_type": "code",
   "execution_count": 7,
   "id": "39ca7db0",
   "metadata": {},
   "outputs": [],
   "source": [
    "a=[1,2,3,4,5,6,7,8,9,10]\n"
   ]
  },
  {
   "cell_type": "code",
   "execution_count": 8,
   "id": "6edee606",
   "metadata": {},
   "outputs": [
    {
     "data": {
      "text/plain": [
       "list"
      ]
     },
     "execution_count": 8,
     "metadata": {},
     "output_type": "execute_result"
    }
   ],
   "source": [
    "type(a)"
   ]
  },
  {
   "cell_type": "code",
   "execution_count": 9,
   "id": "897773c4",
   "metadata": {},
   "outputs": [],
   "source": [
    "x=np.array(a)"
   ]
  },
  {
   "cell_type": "code",
   "execution_count": 11,
   "id": "c3280fab",
   "metadata": {},
   "outputs": [
    {
     "data": {
      "text/plain": [
       "array([ 1,  2,  3,  4,  5,  6,  7,  8,  9, 10])"
      ]
     },
     "execution_count": 11,
     "metadata": {},
     "output_type": "execute_result"
    }
   ],
   "source": [
    "x"
   ]
  },
  {
   "cell_type": "code",
   "execution_count": 13,
   "id": "b7409449",
   "metadata": {},
   "outputs": [
    {
     "data": {
      "text/plain": [
       "numpy.ndarray"
      ]
     },
     "execution_count": 13,
     "metadata": {},
     "output_type": "execute_result"
    }
   ],
   "source": [
    "type(x)"
   ]
  },
  {
   "cell_type": "code",
   "execution_count": 14,
   "id": "37300368",
   "metadata": {},
   "outputs": [],
   "source": [
    "c=np.array([a,x])"
   ]
  },
  {
   "cell_type": "code",
   "execution_count": 15,
   "id": "2bd2b2ae",
   "metadata": {},
   "outputs": [
    {
     "data": {
      "text/plain": [
       "array([[ 1,  2,  3,  4,  5,  6,  7,  8,  9, 10],\n",
       "       [ 1,  2,  3,  4,  5,  6,  7,  8,  9, 10]])"
      ]
     },
     "execution_count": 15,
     "metadata": {},
     "output_type": "execute_result"
    }
   ],
   "source": [
    "c"
   ]
  },
  {
   "cell_type": "code",
   "execution_count": 16,
   "id": "57a2a4a5",
   "metadata": {},
   "outputs": [
    {
     "name": "stdout",
     "output_type": "stream",
     "text": [
      "[[ 1  2  3  4  5  6  7  8  9 10]\n",
      " [ 1  2  3  4  5  6  7  8  9 10]]\n"
     ]
    }
   ],
   "source": [
    "print(c)"
   ]
  },
  {
   "cell_type": "code",
   "execution_count": 9,
   "id": "bc9f1a38",
   "metadata": {},
   "outputs": [],
   "source": [
    "c=np.array([1,2,3,4],dtype=np.float32)"
   ]
  },
  {
   "cell_type": "code",
   "execution_count": 18,
   "id": "f7efa095",
   "metadata": {},
   "outputs": [
    {
     "data": {
      "text/plain": [
       "array([1., 2., 3., 4.], dtype=float32)"
      ]
     },
     "execution_count": 18,
     "metadata": {},
     "output_type": "execute_result"
    }
   ],
   "source": [
    "c"
   ]
  },
  {
   "cell_type": "markdown",
   "id": "ae017bdc",
   "metadata": {},
   "source": [
    "Arrays of zero and ones"
   ]
  },
  {
   "cell_type": "code",
   "execution_count": 19,
   "id": "81c10109",
   "metadata": {},
   "outputs": [
    {
     "data": {
      "text/plain": [
       "array([[0., 0., 0., 0.],\n",
       "       [0., 0., 0., 0.],\n",
       "       [0., 0., 0., 0.]])"
      ]
     },
     "execution_count": 19,
     "metadata": {},
     "output_type": "execute_result"
    }
   ],
   "source": [
    "x=np.zeros((3,4))\n",
    "x"
   ]
  },
  {
   "cell_type": "code",
   "execution_count": 20,
   "id": "dd374d98",
   "metadata": {},
   "outputs": [
    {
     "data": {
      "text/plain": [
       "array([[1., 1., 1., 1.],\n",
       "       [1., 1., 1., 1.],\n",
       "       [1., 1., 1., 1.]])"
      ]
     },
     "execution_count": 20,
     "metadata": {},
     "output_type": "execute_result"
    }
   ],
   "source": [
    "np.ones((3,4))"
   ]
  },
  {
   "cell_type": "code",
   "execution_count": 10,
   "id": "1cfb848c",
   "metadata": {},
   "outputs": [
    {
     "data": {
      "text/plain": [
       "array([1, 1, 1, 1, 1], dtype=int32)"
      ]
     },
     "execution_count": 10,
     "metadata": {},
     "output_type": "execute_result"
    }
   ],
   "source": [
    "np.ones(5,dtype=np.int32)"
   ]
  },
  {
   "cell_type": "markdown",
   "id": "24ec9c55",
   "metadata": {},
   "source": [
    "Random numbers in ndarrays "
   ]
  },
  {
   "cell_type": "code",
   "execution_count": 13,
   "id": "0f558644",
   "metadata": {},
   "outputs": [],
   "source": [
    "random_array=np.random.rand(2,5)"
   ]
  },
  {
   "cell_type": "code",
   "execution_count": 14,
   "id": "a5e143ee",
   "metadata": {},
   "outputs": [
    {
     "data": {
      "text/plain": [
       "array([[0.02765807, 0.17968611, 0.14296706, 0.4856639 , 0.22623404],\n",
       "       [0.70976896, 0.56709314, 0.35393227, 0.92720295, 0.10826666]])"
      ]
     },
     "execution_count": 14,
     "metadata": {},
     "output_type": "execute_result"
    }
   ],
   "source": [
    "\n",
    "random_array\n"
   ]
  },
  {
   "cell_type": "code",
   "execution_count": 15,
   "id": "829f7e58",
   "metadata": {},
   "outputs": [
    {
     "name": "stdout",
     "output_type": "stream",
     "text": [
      "[[0.02765807 0.17968611 0.14296706 0.4856639  0.22623404]\n",
      " [0.70976896 0.56709314 0.35393227 0.92720295 0.10826666]]\n"
     ]
    }
   ],
   "source": [
    "print(random_array)"
   ]
  },
  {
   "cell_type": "code",
   "execution_count": 16,
   "id": "cf5bbff2",
   "metadata": {},
   "outputs": [],
   "source": [
    "p=np.random.randint(1,100, size=(4,4))"
   ]
  },
  {
   "cell_type": "code",
   "execution_count": 17,
   "id": "8e83d483",
   "metadata": {},
   "outputs": [
    {
     "data": {
      "text/plain": [
       "array([[61, 62, 37, 82],\n",
       "       [64, 84, 17, 63],\n",
       "       [64, 22,  3, 26],\n",
       "       [95, 28, 41, 19]], dtype=int32)"
      ]
     },
     "execution_count": 17,
     "metadata": {},
     "output_type": "execute_result"
    }
   ],
   "source": [
    "p"
   ]
  },
  {
   "cell_type": "code",
   "execution_count": 18,
   "id": "e064bead",
   "metadata": {},
   "outputs": [
    {
     "name": "stdout",
     "output_type": "stream",
     "text": [
      "[[61 62 37 82]\n",
      " [64 84 17 63]\n",
      " [64 22  3 26]\n",
      " [95 28 41 19]]\n"
     ]
    }
   ],
   "source": [
    "print(p)"
   ]
  },
  {
   "cell_type": "code",
   "execution_count": 19,
   "id": "e3a33ce8",
   "metadata": {},
   "outputs": [
    {
     "data": {
      "text/plain": [
       "array([[-1.0998605 , -1.67517283, -0.44095551],\n",
       "       [-0.20586903, -1.09402998,  0.19980285]])"
      ]
     },
     "execution_count": 19,
     "metadata": {},
     "output_type": "execute_result"
    }
   ],
   "source": [
    "np.random.randn(2,3)"
   ]
  },
  {
   "cell_type": "code",
   "execution_count": 20,
   "id": "c893b22a",
   "metadata": {},
   "outputs": [
    {
     "data": {
      "text/plain": [
       "array([[4, 3, 4],\n",
       "       [5, 4, 4]])"
      ]
     },
     "execution_count": 20,
     "metadata": {},
     "output_type": "execute_result"
    }
   ],
   "source": [
    "np.random.choice([1,2,3,4,5], size=(2,3))"
   ]
  },
  {
   "cell_type": "markdown",
   "id": "d8b3c2da",
   "metadata": {},
   "source": [
    "An array of your choice lets play"
   ]
  },
  {
   "cell_type": "code",
   "execution_count": 21,
   "id": "9b35f173",
   "metadata": {},
   "outputs": [
    {
     "data": {
      "text/plain": [
       "array([[6, 6, 6, 6, 6],\n",
       "       [6, 6, 6, 6, 6],\n",
       "       [6, 6, 6, 6, 6]])"
      ]
     },
     "execution_count": 21,
     "metadata": {},
     "output_type": "execute_result"
    }
   ],
   "source": [
    "np.full((3,5),6)"
   ]
  },
  {
   "cell_type": "code",
   "execution_count": 22,
   "id": "5f9f1808",
   "metadata": {},
   "outputs": [
    {
     "data": {
      "text/plain": [
       "array([[10, 10, 10, 10, 10],\n",
       "       [10, 10, 10, 10, 10],\n",
       "       [10, 10, 10, 10, 10]], dtype=int32)"
      ]
     },
     "execution_count": 22,
     "metadata": {},
     "output_type": "execute_result"
    }
   ],
   "source": [
    "np.full((3,5),10,dtype=np.int32)"
   ]
  },
  {
   "cell_type": "code",
   "execution_count": 23,
   "id": "4680ae05",
   "metadata": {},
   "outputs": [
    {
     "data": {
      "text/plain": [
       "array([[10., 10., 10., 10.],\n",
       "       [10., 10., 10., 10.],\n",
       "       [10., 10., 10., 10.],\n",
       "       [10., 10., 10., 10.]])"
      ]
     },
     "execution_count": 23,
     "metadata": {},
     "output_type": "execute_result"
    }
   ],
   "source": [
    "np.ones((4,4))*10"
   ]
  },
  {
   "cell_type": "markdown",
   "id": "6728febe",
   "metadata": {},
   "source": [
    "Identity matrix"
   ]
  },
  {
   "cell_type": "code",
   "execution_count": 43,
   "id": "115fc80d",
   "metadata": {},
   "outputs": [
    {
     "name": "stdout",
     "output_type": "stream",
     "text": [
      "[[1. 0. 0. 0.]\n",
      " [0. 1. 0. 0.]\n",
      " [0. 0. 1. 0.]\n",
      " [0. 0. 0. 1.]]\n"
     ]
    }
   ],
   "source": [
    "x=np.eye(4)\n",
    "print(x)"
   ]
  },
  {
   "cell_type": "code",
   "execution_count": 27,
   "id": "00705489",
   "metadata": {},
   "outputs": [
    {
     "data": {
      "text/plain": [
       "array([[1, 0, 0, 0],\n",
       "       [0, 1, 0, 0],\n",
       "       [0, 0, 1, 0],\n",
       "       [0, 0, 0, 1]], dtype=int32)"
      ]
     },
     "execution_count": 27,
     "metadata": {},
     "output_type": "execute_result"
    }
   ],
   "source": [
    "identity_matrix = np.eye(4,dtype=np.int32)\n",
    "identity_matrix"
   ]
  },
  {
   "cell_type": "markdown",
   "id": "94d3edf1",
   "metadata": {},
   "source": [
    "Evenly spaced ndarray"
   ]
  },
  {
   "cell_type": "code",
   "execution_count": 77,
   "id": "f7d539ef",
   "metadata": {},
   "outputs": [
    {
     "name": "stdout",
     "output_type": "stream",
     "text": [
      "[ 5  6  7  8  9 10]\n"
     ]
    }
   ],
   "source": [
    "e=np.arange(5,11)\n",
    "print(e)\n",
    "\n"
   ]
  },
  {
   "cell_type": "code",
   "execution_count": 52,
   "id": "7a000406",
   "metadata": {},
   "outputs": [
    {
     "data": {
      "text/plain": [
       "numpy.ndarray"
      ]
     },
     "execution_count": 52,
     "metadata": {},
     "output_type": "execute_result"
    }
   ],
   "source": [
    "type(e)"
   ]
  },
  {
   "cell_type": "code",
   "execution_count": 53,
   "id": "e67e04ee",
   "metadata": {},
   "outputs": [
    {
     "data": {
      "text/plain": [
       "array([ 1,  3,  5,  7,  9, 11, 13])"
      ]
     },
     "execution_count": 53,
     "metadata": {},
     "output_type": "execute_result"
    }
   ],
   "source": [
    "np.arange(1,15,2)"
   ]
  },
  {
   "cell_type": "code",
   "execution_count": 58,
   "id": "5115e29c",
   "metadata": {},
   "outputs": [
    {
     "data": {
      "text/plain": [
       "array([0.  , 0.75, 1.5 , 2.25, 3.  ])"
      ]
     },
     "execution_count": 58,
     "metadata": {},
     "output_type": "execute_result"
    }
   ],
   "source": [
    "np.linspace(0,3,5)"
   ]
  },
  {
   "cell_type": "markdown",
   "id": "31952883",
   "metadata": {},
   "source": [
    "Dimension of nparray"
   ]
  },
  {
   "cell_type": "code",
   "execution_count": 60,
   "id": "0ef9f20e",
   "metadata": {},
   "outputs": [
    {
     "name": "stdout",
     "output_type": "stream",
     "text": [
      "[10 20 30 40 50]\n"
     ]
    }
   ],
   "source": [
    "a=[10,20,30,40,50]\n",
    "p=np.array(a)\n",
    "print(p)"
   ]
  },
  {
   "cell_type": "code",
   "execution_count": 61,
   "id": "dd45bfae",
   "metadata": {},
   "outputs": [
    {
     "data": {
      "text/plain": [
       "1"
      ]
     },
     "execution_count": 61,
     "metadata": {},
     "output_type": "execute_result"
    }
   ],
   "source": [
    "p.ndim"
   ]
  },
  {
   "cell_type": "code",
   "execution_count": 66,
   "id": "467d02c7",
   "metadata": {},
   "outputs": [
    {
     "name": "stdout",
     "output_type": "stream",
     "text": [
      "[[10 20 30 40 50]\n",
      " [ 1  2  3  4  5]]\n"
     ]
    }
   ],
   "source": [
    "b=[1,2,3,4,5]\n",
    "q=np.array([p,b])\n",
    "print(q)"
   ]
  },
  {
   "cell_type": "code",
   "execution_count": 67,
   "id": "bac868c0",
   "metadata": {},
   "outputs": [
    {
     "data": {
      "text/plain": [
       "2"
      ]
     },
     "execution_count": 67,
     "metadata": {},
     "output_type": "execute_result"
    }
   ],
   "source": [
    "q.ndim"
   ]
  },
  {
   "cell_type": "code",
   "execution_count": 68,
   "id": "9040c751",
   "metadata": {},
   "outputs": [
    {
     "data": {
      "text/plain": [
       "(2, 5)"
      ]
     },
     "execution_count": 68,
     "metadata": {},
     "output_type": "execute_result"
    }
   ],
   "source": [
    "q.shape"
   ]
  },
  {
   "cell_type": "code",
   "execution_count": 69,
   "id": "32b41520",
   "metadata": {},
   "outputs": [
    {
     "data": {
      "text/plain": [
       "10"
      ]
     },
     "execution_count": 69,
     "metadata": {},
     "output_type": "execute_result"
    }
   ],
   "source": [
    "q.size"
   ]
  },
  {
   "cell_type": "code",
   "execution_count": 74,
   "id": "d4fde05d",
   "metadata": {},
   "outputs": [],
   "source": [
    "a=np.array([3,4,6,7])"
   ]
  },
  {
   "cell_type": "code",
   "execution_count": 75,
   "id": "d3e759ac",
   "metadata": {},
   "outputs": [
    {
     "data": {
      "text/plain": [
       "array([[3, 4],\n",
       "       [6, 7]])"
      ]
     },
     "execution_count": 75,
     "metadata": {},
     "output_type": "execute_result"
    }
   ],
   "source": [
    "np.reshape(a,(2,2))"
   ]
  },
  {
   "cell_type": "code",
   "execution_count": 76,
   "id": "184c9351",
   "metadata": {},
   "outputs": [
    {
     "data": {
      "text/plain": [
       "array([ 1,  2,  3,  4,  5,  6,  7,  8,  9, 10, 11, 12, 13, 14, 15])"
      ]
     },
     "execution_count": 76,
     "metadata": {},
     "output_type": "execute_result"
    }
   ],
   "source": [
    "np.arange(1,16)"
   ]
  },
  {
   "cell_type": "code",
   "execution_count": 1,
   "id": "224d7249",
   "metadata": {},
   "outputs": [
    {
     "ename": "ModuleNotFoundError",
     "evalue": "No module named 'PIL'",
     "output_type": "error",
     "traceback": [
      "\u001b[31m---------------------------------------------------------------------------\u001b[39m",
      "\u001b[31mModuleNotFoundError\u001b[39m                       Traceback (most recent call last)",
      "\u001b[36mCell\u001b[39m\u001b[36m \u001b[39m\u001b[32mIn[1]\u001b[39m\u001b[32m, line 1\u001b[39m\n\u001b[32m----> \u001b[39m\u001b[32m1\u001b[39m \u001b[38;5;28;01mfrom\u001b[39;00m\u001b[38;5;250m \u001b[39m\u001b[34;01mPIL\u001b[39;00m\u001b[38;5;250m \u001b[39m\u001b[38;5;28;01mimport\u001b[39;00m Image, ImageOps\n\u001b[32m      2\u001b[39m \u001b[38;5;28;01mimport\u001b[39;00m\u001b[38;5;250m \u001b[39m\u001b[34;01mnumpy\u001b[39;00m\u001b[38;5;250m \u001b[39m\u001b[38;5;28;01mas\u001b[39;00m\u001b[38;5;250m \u001b[39m\u001b[34;01mnp\u001b[39;00m\n\u001b[32m      3\u001b[39m \u001b[38;5;28;01mimport\u001b[39;00m\u001b[38;5;250m \u001b[39m\u001b[34;01mpandas\u001b[39;00m\u001b[38;5;250m \u001b[39m\u001b[38;5;28;01mas\u001b[39;00m\u001b[38;5;250m \u001b[39m\u001b[34;01mpd\u001b[39;00m\n",
      "\u001b[31mModuleNotFoundError\u001b[39m: No module named 'PIL'"
     ]
    }
   ],
   "source": [
    "from PIL import Image, ImageOps\n",
    "import numpy as np\n",
    "import pandas as pd\n",
    "import matplotlib.pyplot as plt\n",
    "\n",
    "# Function to display Tabular Data options\n",
    "def tabular_data_processing(df):\n",
    "    while True:\n",
    "        print(\"\\nSelect an option:\")\n",
    "        print(\"1. View first few rows\")\n",
    "        print(\"2. Display Data Info\")\n",
    "        print(\"3. Summary Statistics\")\n",
    "        print(\"4. Data Cleaning (Drop rows with NaN)\")\n",
    "        print(\"5. Filter Data by Condition\")\n",
    "        print(\"6. Filter Data by Range\")\n",
    "        print(\"7. Filter Data by Text Matching\")\n",
    "        print(\"8. Filter Data by Missing Values\")\n",
    "        print(\"9. Filter Data with Regular Expressions\")\n",
    "        print(\"10. Filter Top/Bottom N Values\")\n",
    "        print(\"11. Group and Aggregate\")\n",
    "        print(\"12. Sort Data\")\n",
    "        print(\"13. Save Processed Data\")\n",
    "        print(\"14. Generate Visualizations\")\n",
    "        print(\"15. Normalize Data\")\n",
    "        print(\"16. Correlation Matrix\")\n",
    "        print(\"17. Pivot Table\")\n",
    "        print(\"18. Merge with Another CSV\")\n",
    "        print(\"19. Convert Image to CSV\")\n",
    "        print(\"0. Exit\")\n",
    "        \n",
    "        choice = input(\"Enter your choice: \").strip()\n",
    "\n",
    "        if choice == '1':\n",
    "            print(df.head())  # View first few rows\n",
    "        elif choice == '2':\n",
    "            print(df.info())  # Display Data Info\n",
    "        elif choice == '3':\n",
    "            print(df.describe())  # Summary Statistics\n",
    "        elif choice == '4':\n",
    "            df = df.dropna()  # Data Cleaning\n",
    "            print(\"Rows with NaN values dropped.\")\n",
    "        elif choice == '5':\n",
    "            condition = input(\"Enter condition (e.g., df['column'] > value): \")\n",
    "            filtered_df = df.query(condition)  # Filter by condition\n",
    "            print(filtered_df)\n",
    "        elif choice == '6':\n",
    "            col_name = input(\"Enter column name: \")\n",
    "            min_val = float(input(\"Enter min value: \"))\n",
    "            max_val = float(input(\"Enter max value: \"))\n",
    "            filtered_df = df[(df[col_name] >= min_val) & (df[col_name] <= max_val)]  # Filter by range\n",
    "            print(filtered_df)\n",
    "        elif choice == '7':\n",
    "            col_name = input(\"Enter column name: \")\n",
    "            pattern = input(\"Enter text pattern to match: \")\n",
    "            filtered_df = df[df[col_name].str.contains(pattern, na=False)]  # Filter by text matching\n",
    "            print(filtered_df)\n",
    "        elif choice == '8':\n",
    "            col_name = input(\"Enter column name: \")\n",
    "            filtered_df = df[df[col_name].isnull()]  # Filter by missing values\n",
    "            print(filtered_df)\n",
    "        elif choice == '9':\n",
    "            col_name = input(\"Enter column name: \")\n",
    "            pattern = input(\"Enter regular expression: \")\n",
    "            filtered_df = df[df[col_name].str.match(pattern, na=False)]  # Filter with regex\n",
    "            print(filtered_df)\n",
    "        elif choice == '10':\n",
    "            top_bottom = input(\"Enter 'top' for top N or 'bottom' for bottom N values: \").strip()\n",
    "            N = int(input(\"Enter number of top/bottom rows: \"))\n",
    "            if top_bottom == 'top':\n",
    "                print(df.head(N))  # Top N values\n",
    "            elif top_bottom == 'bottom':\n",
    "                print(df.tail(N))  # Bottom N values\n",
    "        elif choice == '11':\n",
    "            group_col = input(\"Enter column name to group by: \")\n",
    "            agg_func = input(\"Enter aggregation function (e.g., mean, sum): \")\n",
    "            grouped_df = df.groupby(group_col).agg(agg_func)  # Group and aggregate\n",
    "            print(grouped_df)\n",
    "        elif choice == '12':\n",
    "            sort_col = input(\"Enter column name to sort by: \")\n",
    "            df = df.sort_values(by=sort_col)  # Sort data\n",
    "            print(df)\n",
    "        elif choice == '13':\n",
    "            save_path = input(\"Enter the file path to save the processed data: \")\n",
    "            df.to_csv(save_path, index=False)  # Save processed data\n",
    "            print(f\"Data saved to {save_path}\")\n",
    "        elif choice == '14':\n",
    "            plot_column = input(\"Enter column name to visualize: \")\n",
    "            df[plot_column].plot(kind='hist', bins=20, alpha=0.7)  # Histogram\n",
    "            plt.show()\n",
    "        elif choice == '15':\n",
    "            cols = input(\"Enter columns to normalize (comma separated): \").split(',')\n",
    "            df[cols] = df[cols].apply(lambda x: (x - x.min()) / (x.max() - x.min()))  # Normalize data\n",
    "            print(df)\n",
    "        elif choice == '16':\n",
    "            corr_matrix = df.corr()  # Correlation matrix\n",
    "            print(corr_matrix)\n",
    "        elif choice == '17':\n",
    "            pivot_col = input(\"Enter column for pivoting: \")\n",
    "            pivot_df = df.pivot_table(index=pivot_col)  # Pivot Table\n",
    "            print(pivot_df)\n",
    "        elif choice == '18':\n",
    "            merge_file = input(\"Enter the path to the CSV file to merge with: \")\n",
    "            merge_df = pd.read_csv(merge_file)\n",
    "            df = pd.merge(df, merge_df)  # Merge dataframes\n",
    "            print(\"Data merged successfully.\")\n",
    "        elif choice == '19':\n",
    "            image_file = input(\"Enter the path to the image file: \")\n",
    "            # Add the logic to convert image to CSV (this part can be an extension)\n",
    "            print(f\"Image {image_file} converted to CSV format.\")  \n",
    "        elif choice == '0':\n",
    "            print(\"Exiting Data Processing.\")\n",
    "            break\n",
    "        else:\n",
    "            print(\"Invalid choice. Please try again.\")\n",
    "    \n",
    "    return df  # Return the modified dataframe\n",
    "\n",
    "# Function to process the image file (Photoshop)\n",
    "def photoshop_operations():\n",
    "    while True:\n",
    "        print(\"\\nSelect an image operation:\")\n",
    "        print(\"1. Invert colors\")\n",
    "        print(\"2. Crop image\")\n",
    "        print(\"3. Resize image\")\n",
    "        print(\"4. Rotate image\")\n",
    "        print(\"5. Swap color channels\")\n",
    "        print(\"6. Display histogram\")\n",
    "        print(\"7. Save processed image\")\n",
    "        print(\"0. Exit\")\n",
    "\n",
    "        choice = input(\"Enter your choice: \").strip()\n",
    "\n",
    "        if choice == '1':\n",
    "            img = invert_colors(img)\n",
    "        elif choice == '2':\n",
    "            left = int(input(\"Enter left: \"))\n",
    "            top = int(input(\"Enter top: \"))\n",
    "            right = int(input(\"Enter right: \"))\n",
    "            bottom = int(input(\"Enter bottom: \"))\n",
    "            img = crop_image(img, (left, top, right, bottom))\n",
    "        elif choice == '3':\n",
    "            width = int(input(\"Enter new width: \"))\n",
    "            height = int(input(\"Enter new height: \"))\n",
    "            img = resize_image(img, (width, height))\n",
    "        elif choice == '4':\n",
    "            angle = int(input(\"Enter angle to rotate: \"))\n",
    "            img = rotate_image(img, angle)\n",
    "        elif choice == '5':\n",
    "            img = swap_color_channels(img)\n",
    "        elif choice == '6':\n",
    "            display_histogram(img)\n",
    "        elif choice == '7':\n",
    "            save_path = input(\"Enter the path to save the image: \")\n",
    "            img.save(save_path)\n",
    "            print(f\"Image saved to {save_path}\")\n",
    "        elif choice == '0':\n",
    "            print(\"Exiting Photoshop operations.\")\n",
    "            break\n",
    "        else:\n",
    "            print(\"Invalid choice. Please try again.\")\n",
    "\n",
    "# Load and display image\n",
    "def load_image(image_path):\n",
    "    try:\n",
    "        img = Image.open(image_path)\n",
    "        img.show()\n",
    "        return img\n",
    "    except Exception as e:\n",
    "        print(f\"Error loading image: {e}\")\n",
    "        return None\n",
    "\n",
    "# Image processing operations\n",
    "def invert_colors(img):\n",
    "    inverted_img = ImageOps.invert(img.convert(\"RGB\"))\n",
    "    inverted_img.show()\n",
    "    return inverted_img\n",
    "\n",
    "def crop_image(img, crop_box):\n",
    "    cropped_img = img.crop(crop_box)\n",
    "    cropped_img.show()\n",
    "    return cropped_img\n",
    "\n",
    "def resize_image(img, new_size):\n",
    "    resized_img = img.resize(new_size)\n",
    "    resized_img.show()\n",
    "    return resized_img\n",
    "\n",
    "def rotate_image(img, angle):\n",
    "    rotated_img = img.rotate(angle)\n",
    "    rotated_img.show()\n",
    "    return rotated_img\n",
    "\n",
    "def swap_color_channels(img):\n",
    "    np_img = np.array(img)\n",
    "    swapped_img = np_img[..., ::-1]  # Reverse the order of channels\n",
    "    swapped_img = Image.fromarray(swapped_img)\n",
    "    swapped_img.show()\n",
    "    return swapped_img\n",
    "\n",
    "def display_histogram(img):\n",
    "    np_img = np.array(img)\n",
    "    color = ('r', 'g', 'b')\n",
    "    plt.figure(figsize=(10, 6))\n",
    "\n",
    "    for i, col in enumerate(color):\n",
    "        histogram, bins = np.histogram(np_img[..., i], bins=256, range=(0, 255))\n",
    "        plt.plot(bins[:-1], histogram, color=col)\n",
    "\n",
    "    plt.title('Color Histogram')\n",
    "    plt.xlabel('Pixel Intensity')\n",
    "    plt.ylabel('Frequency')\n",
    "    plt.legend(color)\n",
    "    plt.show()\n",
    "\n",
    "# Main function to ask for user selection\n",
    "def main():\n",
    "    print(\"Choose an option:\")\n",
    "    print(\"1. Tabular Data Processing\")\n",
    "    print(\"2. Photoshop Operations\")\n",
    "\n",
    "    choice = input(\"Enter your choice (1 or 2): \").strip()\n",
    "\n",
    "    if choice == '1':\n",
    "        file_path = input(\"Please enter the path to the CSV file: \").strip()\n",
    "        try:\n",
    "            df = pd.read_csv(file_path)\n",
    "            print(f\"Data loaded successfully from {file_path}\")\n",
    "            df = tabular_data_processing(df)  # Call the tabular data processing function\n",
    "        except Exception as e:\n",
    "            print(f\"Error loading CSV file: {e}\")\n",
    "    elif choice == '2':\n",
    "        image_path = input(\"Please enter the path to the image file (jpg, png): \").strip()\n",
    "        try:\n",
    "            img = load_image(image_path)\n",
    "            if img:\n",
    "                photoshop_operations()  # Call the photoshop operations function\n",
    "        except Exception as e:\n",
    "            print(f\"Error loading image: {e}\")\n",
    "    else:\n",
    "        print(\"Invalid choice. Please choose 1 or 2.\")\n",
    "\n",
    "# Run the main function\n",
    "if __name__ == \"__main__\":\n",
    "    main()\n"
   ]
  },
  {
   "cell_type": "code",
   "execution_count": null,
   "id": "d3e9d6e2",
   "metadata": {},
   "outputs": [],
   "source": []
  }
 ],
 "metadata": {
  "kernelspec": {
   "display_name": ".venv",
   "language": "python",
   "name": "python3"
  },
  "language_info": {
   "codemirror_mode": {
    "name": "ipython",
    "version": 3
   },
   "file_extension": ".py",
   "mimetype": "text/x-python",
   "name": "python",
   "nbconvert_exporter": "python",
   "pygments_lexer": "ipython3",
   "version": "3.13.3"
  }
 },
 "nbformat": 4,
 "nbformat_minor": 5
}
